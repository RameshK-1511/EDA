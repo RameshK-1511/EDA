{
 "cells": [
  {
   "cell_type": "code",
   "execution_count": 1,
   "metadata": {
    "_cell_guid": "b1076dfc-b9ad-4769-8c92-a6c4dae69d19",
    "_uuid": "8f2839f25d086af736a60e9eeb907d3b93b6e0e5",
    "execution": {
     "iopub.execute_input": "2020-10-06T13:31:52.020815Z",
     "iopub.status.busy": "2020-10-06T13:31:52.020004Z",
     "iopub.status.idle": "2020-10-06T13:31:53.185914Z",
     "shell.execute_reply": "2020-10-06T13:31:53.185059Z"
    },
    "papermill": {
     "duration": 1.192854,
     "end_time": "2020-10-06T13:31:53.186045",
     "exception": false,
     "start_time": "2020-10-06T13:31:51.993191",
     "status": "completed"
    },
    "tags": []
   },
   "outputs": [],
   "source": [
    "import seaborn as sns\n",
    "from mpl_toolkits.mplot3d import Axes3D\n",
    "from sklearn.preprocessing import StandardScaler\n",
    "import matplotlib.pyplot as plt # plotting\n",
    "import numpy as np # linear algebra\n",
    "import os # accessing directory structure\n",
    "import pandas as pd # data processing, CSV file I/O (e.g. pd.read_csv)"
   ]
  },
  {
   "cell_type": "code",
   "execution_count": 2,
   "metadata": {
    "_cell_guid": "79c7e3d0-c299-4dcb-8224-4455121ee9b0",
    "_uuid": "d629ff2d2480ee46fbb7e2d37f6b5fab8052498a",
    "execution": {
     "iopub.execute_input": "2020-10-06T13:31:53.231715Z",
     "iopub.status.busy": "2020-10-06T13:31:53.230816Z",
     "iopub.status.idle": "2020-10-06T13:31:53.239131Z",
     "shell.execute_reply": "2020-10-06T13:31:53.238279Z"
    },
    "papermill": {
     "duration": 0.033432,
     "end_time": "2020-10-06T13:31:53.239262",
     "exception": false,
     "start_time": "2020-10-06T13:31:53.205830",
     "status": "completed"
    },
    "tags": []
   },
   "outputs": [
    {
     "name": "stdout",
     "output_type": "stream",
     "text": [
      "/kaggle/input/ipl-auction-dataset/IPL Data.csv\n"
     ]
    }
   ],
   "source": [
    "import os\n",
    "for dirname, _, filenames in os.walk('/kaggle/input'):\n",
    "    for filename in filenames:\n",
    "        print(os.path.join(dirname, filename))"
   ]
  },
  {
   "cell_type": "code",
   "execution_count": 3,
   "metadata": {
    "execution": {
     "iopub.execute_input": "2020-10-06T13:31:53.285303Z",
     "iopub.status.busy": "2020-10-06T13:31:53.284527Z",
     "iopub.status.idle": "2020-10-06T13:31:53.612034Z",
     "shell.execute_reply": "2020-10-06T13:31:53.611203Z"
    },
    "papermill": {
     "duration": 0.352612,
     "end_time": "2020-10-06T13:31:53.612162",
     "exception": false,
     "start_time": "2020-10-06T13:31:53.259550",
     "status": "completed"
    },
    "tags": []
   },
   "outputs": [],
   "source": [
    "ipl_data = pd.read_csv(\"../input/ipl-auction-dataset/IPL Data.csv\",engine = 'python')"
   ]
  },
  {
   "cell_type": "code",
   "execution_count": 4,
   "metadata": {
    "execution": {
     "iopub.execute_input": "2020-10-06T13:31:53.668795Z",
     "iopub.status.busy": "2020-10-06T13:31:53.667379Z",
     "iopub.status.idle": "2020-10-06T13:31:53.683202Z",
     "shell.execute_reply": "2020-10-06T13:31:53.682623Z"
    },
    "papermill": {
     "duration": 0.051383,
     "end_time": "2020-10-06T13:31:53.683343",
     "exception": false,
     "start_time": "2020-10-06T13:31:53.631960",
     "status": "completed"
    },
    "tags": []
   },
   "outputs": [
    {
     "data": {
      "text/html": [
       "<div>\n",
       "<style scoped>\n",
       "    .dataframe tbody tr th:only-of-type {\n",
       "        vertical-align: middle;\n",
       "    }\n",
       "\n",
       "    .dataframe tbody tr th {\n",
       "        vertical-align: top;\n",
       "    }\n",
       "\n",
       "    .dataframe thead th {\n",
       "        text-align: right;\n",
       "    }\n",
       "</style>\n",
       "<table border=\"1\" class=\"dataframe\">\n",
       "  <thead>\n",
       "    <tr style=\"text-align: right;\">\n",
       "      <th></th>\n",
       "      <th>S.No</th>\n",
       "      <th>Set No</th>\n",
       "      <th>Set</th>\n",
       "      <th>Name</th>\n",
       "      <th>Country</th>\n",
       "      <th>Playing Role</th>\n",
       "      <th>IPL Matches</th>\n",
       "      <th>Capped / Uncapped /Associate</th>\n",
       "      <th>Reserve Price(in ₹ Lacs)</th>\n",
       "      <th>IPL 2020 Team</th>\n",
       "      <th>Auctioned Price(in ₹ Lacs)</th>\n",
       "      <th>IPL 2019 Team</th>\n",
       "      <th>IPL Team(s)</th>\n",
       "    </tr>\n",
       "  </thead>\n",
       "  <tbody>\n",
       "    <tr>\n",
       "      <th>0</th>\n",
       "      <td>1</td>\n",
       "      <td>1</td>\n",
       "      <td>BA1</td>\n",
       "      <td>Chris Lynn</td>\n",
       "      <td>NaN</td>\n",
       "      <td>Batsman</td>\n",
       "      <td>41.0</td>\n",
       "      <td>Capped</td>\n",
       "      <td>200</td>\n",
       "      <td>Mumbai Indians</td>\n",
       "      <td>200</td>\n",
       "      <td>KKR</td>\n",
       "      <td>Deccan Chargers,SRH,KKR</td>\n",
       "    </tr>\n",
       "    <tr>\n",
       "      <th>1</th>\n",
       "      <td>2</td>\n",
       "      <td>1</td>\n",
       "      <td>BA1</td>\n",
       "      <td>Eoin Morgan</td>\n",
       "      <td>NaN</td>\n",
       "      <td>Batsman</td>\n",
       "      <td>52.0</td>\n",
       "      <td>Capped</td>\n",
       "      <td>200</td>\n",
       "      <td>Kolkata Knight Riders</td>\n",
       "      <td>525</td>\n",
       "      <td>NaN</td>\n",
       "      <td>RCB, KKR, SRH, KXIP</td>\n",
       "    </tr>\n",
       "    <tr>\n",
       "      <th>2</th>\n",
       "      <td>3</td>\n",
       "      <td>1</td>\n",
       "      <td>BA1</td>\n",
       "      <td>Robin Uthappa</td>\n",
       "      <td>NaN</td>\n",
       "      <td>Batsman</td>\n",
       "      <td>177.0</td>\n",
       "      <td>Capped</td>\n",
       "      <td>150</td>\n",
       "      <td>Rajasthan Royals</td>\n",
       "      <td>300</td>\n",
       "      <td>KKR</td>\n",
       "      <td>MI, RCB, PWI, KKR</td>\n",
       "    </tr>\n",
       "    <tr>\n",
       "      <th>3</th>\n",
       "      <td>4</td>\n",
       "      <td>1</td>\n",
       "      <td>BA1</td>\n",
       "      <td>Jason Roy</td>\n",
       "      <td>NaN</td>\n",
       "      <td>Batsman</td>\n",
       "      <td>8.0</td>\n",
       "      <td>Capped</td>\n",
       "      <td>150</td>\n",
       "      <td>Delhi Capitals</td>\n",
       "      <td>150</td>\n",
       "      <td>NaN</td>\n",
       "      <td>GL,DD</td>\n",
       "    </tr>\n",
       "    <tr>\n",
       "      <th>4</th>\n",
       "      <td>5</td>\n",
       "      <td>1</td>\n",
       "      <td>BA1</td>\n",
       "      <td>Aaron Finch</td>\n",
       "      <td>NaN</td>\n",
       "      <td>Batsman</td>\n",
       "      <td>75.0</td>\n",
       "      <td>Capped</td>\n",
       "      <td>100</td>\n",
       "      <td>Royal Challengers Bangalore</td>\n",
       "      <td>440</td>\n",
       "      <td>NaN</td>\n",
       "      <td>RR, DD, PWI, SRH, MI, GL, KXIP</td>\n",
       "    </tr>\n",
       "  </tbody>\n",
       "</table>\n",
       "</div>"
      ],
      "text/plain": [
       "   S.No Set No  Set           Name  Country Playing Role  IPL Matches  \\\n",
       "0     1      1  BA1     Chris Lynn      NaN      Batsman         41.0   \n",
       "1     2      1  BA1    Eoin Morgan      NaN      Batsman         52.0   \n",
       "2     3      1  BA1  Robin Uthappa      NaN      Batsman        177.0   \n",
       "3     4      1  BA1      Jason Roy      NaN      Batsman          8.0   \n",
       "4     5      1  BA1    Aaron Finch      NaN      Batsman         75.0   \n",
       "\n",
       "  Capped / Uncapped /Associate  Reserve Price(in ₹ Lacs)  \\\n",
       "0                       Capped                       200   \n",
       "1                       Capped                       200   \n",
       "2                       Capped                       150   \n",
       "3                       Capped                       150   \n",
       "4                       Capped                       100   \n",
       "\n",
       "                 IPL 2020 Team  Auctioned Price(in ₹ Lacs) IPL 2019 Team  \\\n",
       "0               Mumbai Indians                         200           KKR   \n",
       "1        Kolkata Knight Riders                         525           NaN   \n",
       "2             Rajasthan Royals                         300           KKR   \n",
       "3               Delhi Capitals                         150           NaN   \n",
       "4  Royal Challengers Bangalore                         440           NaN   \n",
       "\n",
       "                      IPL Team(s)  \n",
       "0         Deccan Chargers,SRH,KKR  \n",
       "1             RCB, KKR, SRH, KXIP  \n",
       "2               MI, RCB, PWI, KKR  \n",
       "3                           GL,DD  \n",
       "4  RR, DD, PWI, SRH, MI, GL, KXIP  "
      ]
     },
     "execution_count": 4,
     "metadata": {},
     "output_type": "execute_result"
    }
   ],
   "source": [
    "ipl_data.head()"
   ]
  },
  {
   "cell_type": "code",
   "execution_count": 5,
   "metadata": {
    "execution": {
     "iopub.execute_input": "2020-10-06T13:31:53.744604Z",
     "iopub.status.busy": "2020-10-06T13:31:53.743815Z",
     "iopub.status.idle": "2020-10-06T13:31:53.771808Z",
     "shell.execute_reply": "2020-10-06T13:31:53.771055Z"
    },
    "papermill": {
     "duration": 0.066129,
     "end_time": "2020-10-06T13:31:53.771931",
     "exception": false,
     "start_time": "2020-10-06T13:31:53.705802",
     "status": "completed"
    },
    "tags": []
   },
   "outputs": [
    {
     "data": {
      "text/html": [
       "<div>\n",
       "<style scoped>\n",
       "    .dataframe tbody tr th:only-of-type {\n",
       "        vertical-align: middle;\n",
       "    }\n",
       "\n",
       "    .dataframe tbody tr th {\n",
       "        vertical-align: top;\n",
       "    }\n",
       "\n",
       "    .dataframe thead th {\n",
       "        text-align: right;\n",
       "    }\n",
       "</style>\n",
       "<table border=\"1\" class=\"dataframe\">\n",
       "  <thead>\n",
       "    <tr style=\"text-align: right;\">\n",
       "      <th></th>\n",
       "      <th>S.No</th>\n",
       "      <th>Country</th>\n",
       "      <th>IPL Matches</th>\n",
       "      <th>Reserve Price(in ₹ Lacs)</th>\n",
       "      <th>Auctioned Price(in ₹ Lacs)</th>\n",
       "    </tr>\n",
       "  </thead>\n",
       "  <tbody>\n",
       "    <tr>\n",
       "      <th>count</th>\n",
       "      <td>62.000000</td>\n",
       "      <td>0.0</td>\n",
       "      <td>38.000000</td>\n",
       "      <td>62.000000</td>\n",
       "      <td>62.000000</td>\n",
       "    </tr>\n",
       "    <tr>\n",
       "      <th>mean</th>\n",
       "      <td>31.500000</td>\n",
       "      <td>NaN</td>\n",
       "      <td>35.552632</td>\n",
       "      <td>69.032258</td>\n",
       "      <td>226.290323</td>\n",
       "    </tr>\n",
       "    <tr>\n",
       "      <th>std</th>\n",
       "      <td>18.041619</td>\n",
       "      <td>NaN</td>\n",
       "      <td>43.325105</td>\n",
       "      <td>62.001049</td>\n",
       "      <td>311.463936</td>\n",
       "    </tr>\n",
       "    <tr>\n",
       "      <th>min</th>\n",
       "      <td>1.000000</td>\n",
       "      <td>NaN</td>\n",
       "      <td>0.000000</td>\n",
       "      <td>20.000000</td>\n",
       "      <td>20.000000</td>\n",
       "    </tr>\n",
       "    <tr>\n",
       "      <th>25%</th>\n",
       "      <td>16.250000</td>\n",
       "      <td>NaN</td>\n",
       "      <td>3.250000</td>\n",
       "      <td>20.000000</td>\n",
       "      <td>20.000000</td>\n",
       "    </tr>\n",
       "    <tr>\n",
       "      <th>50%</th>\n",
       "      <td>31.500000</td>\n",
       "      <td>NaN</td>\n",
       "      <td>17.000000</td>\n",
       "      <td>50.000000</td>\n",
       "      <td>90.000000</td>\n",
       "    </tr>\n",
       "    <tr>\n",
       "      <th>75%</th>\n",
       "      <td>46.750000</td>\n",
       "      <td>NaN</td>\n",
       "      <td>61.000000</td>\n",
       "      <td>100.000000</td>\n",
       "      <td>285.000000</td>\n",
       "    </tr>\n",
       "    <tr>\n",
       "      <th>max</th>\n",
       "      <td>62.000000</td>\n",
       "      <td>NaN</td>\n",
       "      <td>177.000000</td>\n",
       "      <td>200.000000</td>\n",
       "      <td>1550.000000</td>\n",
       "    </tr>\n",
       "  </tbody>\n",
       "</table>\n",
       "</div>"
      ],
      "text/plain": [
       "            S.No  Country  IPL Matches  Reserve Price(in ₹ Lacs)  \\\n",
       "count  62.000000      0.0    38.000000                 62.000000   \n",
       "mean   31.500000      NaN    35.552632                 69.032258   \n",
       "std    18.041619      NaN    43.325105                 62.001049   \n",
       "min     1.000000      NaN     0.000000                 20.000000   \n",
       "25%    16.250000      NaN     3.250000                 20.000000   \n",
       "50%    31.500000      NaN    17.000000                 50.000000   \n",
       "75%    46.750000      NaN    61.000000                100.000000   \n",
       "max    62.000000      NaN   177.000000                200.000000   \n",
       "\n",
       "       Auctioned Price(in ₹ Lacs)  \n",
       "count                   62.000000  \n",
       "mean                   226.290323  \n",
       "std                    311.463936  \n",
       "min                     20.000000  \n",
       "25%                     20.000000  \n",
       "50%                     90.000000  \n",
       "75%                    285.000000  \n",
       "max                   1550.000000  "
      ]
     },
     "execution_count": 5,
     "metadata": {},
     "output_type": "execute_result"
    }
   ],
   "source": [
    "ipl_data.describe()"
   ]
  },
  {
   "cell_type": "code",
   "execution_count": 6,
   "metadata": {
    "execution": {
     "iopub.execute_input": "2020-10-06T13:31:53.821209Z",
     "iopub.status.busy": "2020-10-06T13:31:53.820165Z",
     "iopub.status.idle": "2020-10-06T13:31:53.824851Z",
     "shell.execute_reply": "2020-10-06T13:31:53.824215Z"
    },
    "papermill": {
     "duration": 0.031491,
     "end_time": "2020-10-06T13:31:53.824975",
     "exception": false,
     "start_time": "2020-10-06T13:31:53.793484",
     "status": "completed"
    },
    "tags": []
   },
   "outputs": [
    {
     "data": {
      "text/plain": [
       "(62, 13)"
      ]
     },
     "execution_count": 6,
     "metadata": {},
     "output_type": "execute_result"
    }
   ],
   "source": [
    "ipl_data.shape"
   ]
  },
  {
   "cell_type": "code",
   "execution_count": 7,
   "metadata": {
    "execution": {
     "iopub.execute_input": "2020-10-06T13:31:53.884017Z",
     "iopub.status.busy": "2020-10-06T13:31:53.883027Z",
     "iopub.status.idle": "2020-10-06T13:31:53.886607Z",
     "shell.execute_reply": "2020-10-06T13:31:53.887189Z"
    },
    "papermill": {
     "duration": 0.039918,
     "end_time": "2020-10-06T13:31:53.887356",
     "exception": false,
     "start_time": "2020-10-06T13:31:53.847438",
     "status": "completed"
    },
    "tags": []
   },
   "outputs": [
    {
     "name": "stdout",
     "output_type": "stream",
     "text": [
      "<class 'pandas.core.frame.DataFrame'>\n",
      "RangeIndex: 62 entries, 0 to 61\n",
      "Data columns (total 13 columns):\n",
      " #   Column                        Non-Null Count  Dtype  \n",
      "---  ------                        --------------  -----  \n",
      " 0   S.No                          62 non-null     int64  \n",
      " 1   Set No                        62 non-null     object \n",
      " 2   Set                           62 non-null     object \n",
      " 3   Name                          62 non-null     object \n",
      " 4   Country                       0 non-null      float64\n",
      " 5   Playing Role                  62 non-null     object \n",
      " 6   IPL Matches                   38 non-null     float64\n",
      " 7   Capped / Uncapped /Associate  62 non-null     object \n",
      " 8   Reserve Price(in ₹ Lacs)      62 non-null     int64  \n",
      " 9   IPL 2020 Team                 62 non-null     object \n",
      " 10  Auctioned Price(in ₹ Lacs)    62 non-null     int64  \n",
      " 11  IPL 2019 Team                 17 non-null     object \n",
      " 12  IPL Team(s)                   36 non-null     object \n",
      "dtypes: float64(2), int64(3), object(8)\n",
      "memory usage: 6.4+ KB\n"
     ]
    }
   ],
   "source": [
    "ipl_data.info()"
   ]
  },
  {
   "cell_type": "code",
   "execution_count": 8,
   "metadata": {
    "execution": {
     "iopub.execute_input": "2020-10-06T13:31:53.940694Z",
     "iopub.status.busy": "2020-10-06T13:31:53.939633Z",
     "iopub.status.idle": "2020-10-06T13:31:53.943211Z",
     "shell.execute_reply": "2020-10-06T13:31:53.942459Z"
    },
    "papermill": {
     "duration": 0.033272,
     "end_time": "2020-10-06T13:31:53.943358",
     "exception": false,
     "start_time": "2020-10-06T13:31:53.910086",
     "status": "completed"
    },
    "tags": []
   },
   "outputs": [],
   "source": [
    "ipl_data.drop(['S.No','Country'], axis=1, inplace=True)"
   ]
  },
  {
   "cell_type": "code",
   "execution_count": 9,
   "metadata": {
    "execution": {
     "iopub.execute_input": "2020-10-06T13:31:54.009532Z",
     "iopub.status.busy": "2020-10-06T13:31:54.008641Z",
     "iopub.status.idle": "2020-10-06T13:31:54.013136Z",
     "shell.execute_reply": "2020-10-06T13:31:54.013718Z"
    },
    "papermill": {
     "duration": 0.047381,
     "end_time": "2020-10-06T13:31:54.013893",
     "exception": false,
     "start_time": "2020-10-06T13:31:53.966512",
     "status": "completed"
    },
    "tags": []
   },
   "outputs": [
    {
     "data": {
      "text/html": [
       "<div>\n",
       "<style scoped>\n",
       "    .dataframe tbody tr th:only-of-type {\n",
       "        vertical-align: middle;\n",
       "    }\n",
       "\n",
       "    .dataframe tbody tr th {\n",
       "        vertical-align: top;\n",
       "    }\n",
       "\n",
       "    .dataframe thead th {\n",
       "        text-align: right;\n",
       "    }\n",
       "</style>\n",
       "<table border=\"1\" class=\"dataframe\">\n",
       "  <thead>\n",
       "    <tr style=\"text-align: right;\">\n",
       "      <th></th>\n",
       "      <th>Set No</th>\n",
       "      <th>Set</th>\n",
       "      <th>Name</th>\n",
       "      <th>Playing Role</th>\n",
       "      <th>IPL Matches</th>\n",
       "      <th>Capped / Uncapped /Associate</th>\n",
       "      <th>Reserve Price(in ₹ Lacs)</th>\n",
       "      <th>IPL 2020 Team</th>\n",
       "      <th>Auctioned Price(in ₹ Lacs)</th>\n",
       "      <th>IPL 2019 Team</th>\n",
       "      <th>IPL Team(s)</th>\n",
       "    </tr>\n",
       "  </thead>\n",
       "  <tbody>\n",
       "    <tr>\n",
       "      <th>0</th>\n",
       "      <td>1</td>\n",
       "      <td>BA1</td>\n",
       "      <td>Chris Lynn</td>\n",
       "      <td>Batsman</td>\n",
       "      <td>41.0</td>\n",
       "      <td>Capped</td>\n",
       "      <td>200</td>\n",
       "      <td>Mumbai Indians</td>\n",
       "      <td>200</td>\n",
       "      <td>KKR</td>\n",
       "      <td>Deccan Chargers,SRH,KKR</td>\n",
       "    </tr>\n",
       "    <tr>\n",
       "      <th>1</th>\n",
       "      <td>1</td>\n",
       "      <td>BA1</td>\n",
       "      <td>Eoin Morgan</td>\n",
       "      <td>Batsman</td>\n",
       "      <td>52.0</td>\n",
       "      <td>Capped</td>\n",
       "      <td>200</td>\n",
       "      <td>Kolkata Knight Riders</td>\n",
       "      <td>525</td>\n",
       "      <td>NaN</td>\n",
       "      <td>RCB, KKR, SRH, KXIP</td>\n",
       "    </tr>\n",
       "    <tr>\n",
       "      <th>2</th>\n",
       "      <td>1</td>\n",
       "      <td>BA1</td>\n",
       "      <td>Robin Uthappa</td>\n",
       "      <td>Batsman</td>\n",
       "      <td>177.0</td>\n",
       "      <td>Capped</td>\n",
       "      <td>150</td>\n",
       "      <td>Rajasthan Royals</td>\n",
       "      <td>300</td>\n",
       "      <td>KKR</td>\n",
       "      <td>MI, RCB, PWI, KKR</td>\n",
       "    </tr>\n",
       "    <tr>\n",
       "      <th>3</th>\n",
       "      <td>1</td>\n",
       "      <td>BA1</td>\n",
       "      <td>Jason Roy</td>\n",
       "      <td>Batsman</td>\n",
       "      <td>8.0</td>\n",
       "      <td>Capped</td>\n",
       "      <td>150</td>\n",
       "      <td>Delhi Capitals</td>\n",
       "      <td>150</td>\n",
       "      <td>NaN</td>\n",
       "      <td>GL,DD</td>\n",
       "    </tr>\n",
       "    <tr>\n",
       "      <th>4</th>\n",
       "      <td>1</td>\n",
       "      <td>BA1</td>\n",
       "      <td>Aaron Finch</td>\n",
       "      <td>Batsman</td>\n",
       "      <td>75.0</td>\n",
       "      <td>Capped</td>\n",
       "      <td>100</td>\n",
       "      <td>Royal Challengers Bangalore</td>\n",
       "      <td>440</td>\n",
       "      <td>NaN</td>\n",
       "      <td>RR, DD, PWI, SRH, MI, GL, KXIP</td>\n",
       "    </tr>\n",
       "  </tbody>\n",
       "</table>\n",
       "</div>"
      ],
      "text/plain": [
       "  Set No  Set           Name Playing Role  IPL Matches  \\\n",
       "0      1  BA1     Chris Lynn      Batsman         41.0   \n",
       "1      1  BA1    Eoin Morgan      Batsman         52.0   \n",
       "2      1  BA1  Robin Uthappa      Batsman        177.0   \n",
       "3      1  BA1      Jason Roy      Batsman          8.0   \n",
       "4      1  BA1    Aaron Finch      Batsman         75.0   \n",
       "\n",
       "  Capped / Uncapped /Associate  Reserve Price(in ₹ Lacs)  \\\n",
       "0                       Capped                       200   \n",
       "1                       Capped                       200   \n",
       "2                       Capped                       150   \n",
       "3                       Capped                       150   \n",
       "4                       Capped                       100   \n",
       "\n",
       "                 IPL 2020 Team  Auctioned Price(in ₹ Lacs) IPL 2019 Team  \\\n",
       "0               Mumbai Indians                         200           KKR   \n",
       "1        Kolkata Knight Riders                         525           NaN   \n",
       "2             Rajasthan Royals                         300           KKR   \n",
       "3               Delhi Capitals                         150           NaN   \n",
       "4  Royal Challengers Bangalore                         440           NaN   \n",
       "\n",
       "                      IPL Team(s)  \n",
       "0         Deccan Chargers,SRH,KKR  \n",
       "1             RCB, KKR, SRH, KXIP  \n",
       "2               MI, RCB, PWI, KKR  \n",
       "3                           GL,DD  \n",
       "4  RR, DD, PWI, SRH, MI, GL, KXIP  "
      ]
     },
     "execution_count": 9,
     "metadata": {},
     "output_type": "execute_result"
    }
   ],
   "source": [
    "ipl_data.head()"
   ]
  },
  {
   "cell_type": "code",
   "execution_count": 10,
   "metadata": {
    "execution": {
     "iopub.execute_input": "2020-10-06T13:31:54.073655Z",
     "iopub.status.busy": "2020-10-06T13:31:54.072700Z",
     "iopub.status.idle": "2020-10-06T13:31:54.376526Z",
     "shell.execute_reply": "2020-10-06T13:31:54.375740Z"
    },
    "papermill": {
     "duration": 0.338826,
     "end_time": "2020-10-06T13:31:54.376652",
     "exception": false,
     "start_time": "2020-10-06T13:31:54.037826",
     "status": "completed"
    },
    "tags": []
   },
   "outputs": [
    {
     "data": {
      "image/png": "[encoded data removed]",
      "text/plain": [
       "<Figure size 432x288 with 1 Axes>"
      ]
     },
     "metadata": {
      "needs_background": "light"
     },
     "output_type": "display_data"
    }
   ],
   "source": [
    "cap_count  = ipl_data['Capped / Uncapped /Associate'].value_counts()\n",
    "ax = cap_count.plot(kind='bar', color=['c','y'])\n",
    "ax.set_ylabel('number of players')\n",
    "ax.set_title('capped and uncapped players')\n",
    "x_offset = -0.05\n",
    "y_offset = 0.02\n",
    "for p in ax.patches:\n",
    "    b = p.get_bbox()\n",
    "    val = \"{:.0f}\".format(b.y1 + b.y0)        \n",
    "    ax.annotate(val, ((b.x0 + b.x1)/2 + x_offset, b.y1 + y_offset))"
   ]
  },
  {
   "cell_type": "code",
   "execution_count": 11,
   "metadata": {
    "execution": {
     "iopub.execute_input": "2020-10-06T13:31:54.442291Z",
     "iopub.status.busy": "2020-10-06T13:31:54.441237Z",
     "iopub.status.idle": "2020-10-06T13:31:54.446629Z",
     "shell.execute_reply": "2020-10-06T13:31:54.445868Z"
    },
    "papermill": {
     "duration": 0.045381,
     "end_time": "2020-10-06T13:31:54.446755",
     "exception": false,
     "start_time": "2020-10-06T13:31:54.401374",
     "status": "completed"
    },
    "tags": []
   },
   "outputs": [
    {
     "data": {
      "text/html": [
       "<div>\n",
       "<style scoped>\n",
       "    .dataframe tbody tr th:only-of-type {\n",
       "        vertical-align: middle;\n",
       "    }\n",
       "\n",
       "    .dataframe tbody tr th {\n",
       "        vertical-align: top;\n",
       "    }\n",
       "\n",
       "    .dataframe thead th {\n",
       "        text-align: right;\n",
       "    }\n",
       "</style>\n",
       "<table border=\"1\" class=\"dataframe\">\n",
       "  <thead>\n",
       "    <tr style=\"text-align: right;\">\n",
       "      <th></th>\n",
       "      <th></th>\n",
       "      <th>Freq</th>\n",
       "    </tr>\n",
       "    <tr>\n",
       "      <th>Playing Role</th>\n",
       "      <th>Capped / Uncapped /Associate</th>\n",
       "      <th></th>\n",
       "    </tr>\n",
       "  </thead>\n",
       "  <tbody>\n",
       "    <tr>\n",
       "      <th rowspan=\"2\" valign=\"top\">All Rounder</th>\n",
       "      <th>Capped</th>\n",
       "      <td>13</td>\n",
       "    </tr>\n",
       "    <tr>\n",
       "      <th>Uncapped</th>\n",
       "      <td>13</td>\n",
       "    </tr>\n",
       "    <tr>\n",
       "      <th rowspan=\"2\" valign=\"top\">Batsman</th>\n",
       "      <th>Capped</th>\n",
       "      <td>8</td>\n",
       "    </tr>\n",
       "    <tr>\n",
       "      <th>Uncapped</th>\n",
       "      <td>4</td>\n",
       "    </tr>\n",
       "    <tr>\n",
       "      <th rowspan=\"2\" valign=\"top\">Bowler</th>\n",
       "      <th>Capped</th>\n",
       "      <td>3</td>\n",
       "    </tr>\n",
       "    <tr>\n",
       "      <th>Uncapped</th>\n",
       "      <td>2</td>\n",
       "    </tr>\n",
       "    <tr>\n",
       "      <th rowspan=\"2\" valign=\"top\">Fast Bowler</th>\n",
       "      <th>Capped</th>\n",
       "      <td>5</td>\n",
       "    </tr>\n",
       "    <tr>\n",
       "      <th>Uncapped</th>\n",
       "      <td>4</td>\n",
       "    </tr>\n",
       "    <tr>\n",
       "      <th rowspan=\"2\" valign=\"top\">Spinner</th>\n",
       "      <th>Capped</th>\n",
       "      <td>2</td>\n",
       "    </tr>\n",
       "    <tr>\n",
       "      <th>Uncapped</th>\n",
       "      <td>2</td>\n",
       "    </tr>\n",
       "    <tr>\n",
       "      <th rowspan=\"2\" valign=\"top\">Wicket Keeper</th>\n",
       "      <th>Capped</th>\n",
       "      <td>1</td>\n",
       "    </tr>\n",
       "    <tr>\n",
       "      <th>Uncapped</th>\n",
       "      <td>5</td>\n",
       "    </tr>\n",
       "  </tbody>\n",
       "</table>\n",
       "</div>"
      ],
      "text/plain": [
       "                                            Freq\n",
       "Playing Role  Capped / Uncapped /Associate      \n",
       "All Rounder   Capped                          13\n",
       "              Uncapped                        13\n",
       "Batsman       Capped                           8\n",
       "              Uncapped                         4\n",
       "Bowler        Capped                           3\n",
       "              Uncapped                         2\n",
       "Fast Bowler   Capped                           5\n",
       "              Uncapped                         4\n",
       "Spinner       Capped                           2\n",
       "              Uncapped                         2\n",
       "Wicket Keeper Capped                           1\n",
       "              Uncapped                         5"
      ]
     },
     "execution_count": 11,
     "metadata": {},
     "output_type": "execute_result"
    }
   ],
   "source": [
    "pd.DataFrame(ipl_data.groupby([\"Playing Role\", \"Capped / Uncapped /Associate\"]).size().rename('Freq'))"
   ]
  },
  {
   "cell_type": "code",
   "execution_count": 12,
   "metadata": {
    "execution": {
     "iopub.execute_input": "2020-10-06T13:31:54.508967Z",
     "iopub.status.busy": "2020-10-06T13:31:54.505246Z",
     "iopub.status.idle": "2020-10-06T13:31:54.757392Z",
     "shell.execute_reply": "2020-10-06T13:31:54.756790Z"
    },
    "papermill": {
     "duration": 0.285134,
     "end_time": "2020-10-06T13:31:54.757526",
     "exception": false,
     "start_time": "2020-10-06T13:31:54.472392",
     "status": "completed"
    },
    "tags": []
   },
   "outputs": [
    {
     "data": {
      "image/png": "[encoded data removed]",
      "text/plain": [
       "<Figure size 1080x504 with 2 Axes>"
      ]
     },
     "metadata": {},
     "output_type": "display_data"
    }
   ],
   "source": [
    "# plot data\n",
    "# fig, ax = plt.subplots(figsize=(15,7))\n",
    "# fig.tight_layout()\n",
    "# use unstack()\n",
    "ipl_data.groupby([\"Playing Role\", \"Capped / Uncapped /Associate\"]).size().rename('Freq').unstack().plot(kind='pie',figsize=(15,7),subplots=True)\n",
    "\n",
    "# type_show_ids = plt.pie(rating_counts, labels=rating_labels, autopct='%1.1f%%', shadow=True, colors=colors)\n",
    "plt.show()"
   ]
  },
  {
   "cell_type": "code",
   "execution_count": 13,
   "metadata": {
    "execution": {
     "iopub.execute_input": "2020-10-06T13:31:54.823767Z",
     "iopub.status.busy": "2020-10-06T13:31:54.822944Z",
     "iopub.status.idle": "2020-10-06T13:31:54.982292Z",
     "shell.execute_reply": "2020-10-06T13:31:54.981514Z"
    },
    "papermill": {
     "duration": 0.197011,
     "end_time": "2020-10-06T13:31:54.982437",
     "exception": false,
     "start_time": "2020-10-06T13:31:54.785426",
     "status": "completed"
    },
    "tags": []
   },
   "outputs": [
    {
     "name": "stdout",
     "output_type": "stream",
     "text": [
      "Player who has played highest IPL matches\n"
     ]
    },
    {
     "data": {
      "text/html": [
       "<style  type=\"text/css\" >\n",
       "</style><table id=\"T_4cea8f62_07d8_11eb_97a4_0242ac130202\" ><thead>    <tr>        <th class=\"col_heading level0 col0\" >Name</th>        <th class=\"col_heading level0 col1\" >Playing Role</th>        <th class=\"col_heading level0 col2\" >IPL Matches</th>    </tr></thead><tbody>\n",
       "                <tr>\n",
       "                                <td id=\"T_4cea8f62_07d8_11eb_97a4_0242ac130202row0_col0\" class=\"data row0 col0\" >Robin Uthappa</td>\n",
       "                        <td id=\"T_4cea8f62_07d8_11eb_97a4_0242ac130202row0_col1\" class=\"data row0 col1\" >Batsman</td>\n",
       "                        <td id=\"T_4cea8f62_07d8_11eb_97a4_0242ac130202row0_col2\" class=\"data row0 col2\" >177.000000</td>\n",
       "            </tr>\n",
       "    </tbody></table>"
      ],
      "text/plain": [
       "<pandas.io.formats.style.Styler at 0x7fe5685da990>"
      ]
     },
     "execution_count": 13,
     "metadata": {},
     "output_type": "execute_result"
    }
   ],
   "source": [
    "df = ipl_data[ipl_data['IPL Matches']==ipl_data['IPL Matches'].max()]\n",
    "print(\"Player who has played highest IPL matches\")\n",
    "df[['Name', 'Playing Role', 'IPL Matches']].style.hide_index()"
   ]
  },
  {
   "cell_type": "code",
   "execution_count": 14,
   "metadata": {
    "execution": {
     "iopub.execute_input": "2020-10-06T13:31:55.050286Z",
     "iopub.status.busy": "2020-10-06T13:31:55.049076Z",
     "iopub.status.idle": "2020-10-06T13:31:55.054293Z",
     "shell.execute_reply": "2020-10-06T13:31:55.054877Z"
    },
    "papermill": {
     "duration": 0.044038,
     "end_time": "2020-10-06T13:31:55.055055",
     "exception": false,
     "start_time": "2020-10-06T13:31:55.011017",
     "status": "completed"
    },
    "tags": []
   },
   "outputs": [
    {
     "name": "stdout",
     "output_type": "stream",
     "text": [
      "Number of players making Debut in IPL\n"
     ]
    },
    {
     "data": {
      "text/plain": [
       "26"
      ]
     },
     "execution_count": 14,
     "metadata": {},
     "output_type": "execute_result"
    }
   ],
   "source": [
    "print(\"Number of players making Debut in IPL\")\n",
    "debut_df = ipl_data[ipl_data['IPL Team(s)'].isnull() & ipl_data['IPL 2019 Team'].isnull()]\n",
    "debut_df.Name.count()"
   ]
  },
  {
   "cell_type": "code",
   "execution_count": 15,
   "metadata": {
    "execution": {
     "iopub.execute_input": "2020-10-06T13:31:55.130286Z",
     "iopub.status.busy": "2020-10-06T13:31:55.129083Z",
     "iopub.status.idle": "2020-10-06T13:31:55.135872Z",
     "shell.execute_reply": "2020-10-06T13:31:55.136643Z"
    },
    "papermill": {
     "duration": 0.051863,
     "end_time": "2020-10-06T13:31:55.136844",
     "exception": false,
     "start_time": "2020-10-06T13:31:55.084981",
     "status": "completed"
    },
    "tags": []
   },
   "outputs": [
    {
     "name": "stdout",
     "output_type": "stream",
     "text": [
      "All the players making Debut in IPL\n"
     ]
    },
    {
     "data": {
      "text/html": [
       "<style  type=\"text/css\" >\n",
       "</style><table id=\"T_4d01ad50_07d8_11eb_97a4_0242ac130202\" ><thead>    <tr>        <th class=\"col_heading level0 col0\" >Name</th>    </tr></thead><tbody>\n",
       "                <tr>\n",
       "                                <td id=\"T_4d01ad50_07d8_11eb_97a4_0242ac130202row0_col0\" class=\"data row0 col0\" >Alex Carey</td>\n",
       "            </tr>\n",
       "            <tr>\n",
       "                                <td id=\"T_4d01ad50_07d8_11eb_97a4_0242ac130202row1_col0\" class=\"data row1 col0\" >Sheldon Cottrell</td>\n",
       "            </tr>\n",
       "            <tr>\n",
       "                                <td id=\"T_4d01ad50_07d8_11eb_97a4_0242ac130202row2_col0\" class=\"data row2 col0\" >Virat Singh</td>\n",
       "            </tr>\n",
       "            <tr>\n",
       "                                <td id=\"T_4d01ad50_07d8_11eb_97a4_0242ac130202row3_col0\" class=\"data row3 col0\" >Priyam Garg</td>\n",
       "            </tr>\n",
       "            <tr>\n",
       "                                <td id=\"T_4d01ad50_07d8_11eb_97a4_0242ac130202row4_col0\" class=\"data row4 col0\" >Yashasvi Jaiswal</td>\n",
       "            </tr>\n",
       "            <tr>\n",
       "                                <td id=\"T_4d01ad50_07d8_11eb_97a4_0242ac130202row5_col0\" class=\"data row5 col0\" >Anuj Rawat</td>\n",
       "            </tr>\n",
       "            <tr>\n",
       "                                <td id=\"T_4d01ad50_07d8_11eb_97a4_0242ac130202row6_col0\" class=\"data row6 col0\" >Akash Singh</td>\n",
       "            </tr>\n",
       "            <tr>\n",
       "                                <td id=\"T_4d01ad50_07d8_11eb_97a4_0242ac130202row7_col0\" class=\"data row7 col0\" >Kartik Tyagi</td>\n",
       "            </tr>\n",
       "            <tr>\n",
       "                                <td id=\"T_4d01ad50_07d8_11eb_97a4_0242ac130202row8_col0\" class=\"data row8 col0\" >Ishan Porel</td>\n",
       "            </tr>\n",
       "            <tr>\n",
       "                                <td id=\"T_4d01ad50_07d8_11eb_97a4_0242ac130202row9_col0\" class=\"data row9 col0\" >M Siddharth</td>\n",
       "            </tr>\n",
       "            <tr>\n",
       "                                <td id=\"T_4d01ad50_07d8_11eb_97a4_0242ac130202row10_col0\" class=\"data row10 col0\" >Ravi Bishnoi</td>\n",
       "            </tr>\n",
       "            <tr>\n",
       "                                <td id=\"T_4d01ad50_07d8_11eb_97a4_0242ac130202row11_col0\" class=\"data row11 col0\" >Bavanaka Sandeep</td>\n",
       "            </tr>\n",
       "            <tr>\n",
       "                                <td id=\"T_4d01ad50_07d8_11eb_97a4_0242ac130202row12_col0\" class=\"data row12 col0\" >Chris Green</td>\n",
       "            </tr>\n",
       "            <tr>\n",
       "                                <td id=\"T_4d01ad50_07d8_11eb_97a4_0242ac130202row13_col0\" class=\"data row13 col0\" >Josh Philippe</td>\n",
       "            </tr>\n",
       "            <tr>\n",
       "                                <td id=\"T_4d01ad50_07d8_11eb_97a4_0242ac130202row14_col0\" class=\"data row14 col0\" >Tom Banton</td>\n",
       "            </tr>\n",
       "            <tr>\n",
       "                                <td id=\"T_4d01ad50_07d8_11eb_97a4_0242ac130202row15_col0\" class=\"data row15 col0\" >Fabian Allen</td>\n",
       "            </tr>\n",
       "            <tr>\n",
       "                                <td id=\"T_4d01ad50_07d8_11eb_97a4_0242ac130202row16_col0\" class=\"data row16 col0\" >Abdul Samad</td>\n",
       "            </tr>\n",
       "            <tr>\n",
       "                                <td id=\"T_4d01ad50_07d8_11eb_97a4_0242ac130202row17_col0\" class=\"data row17 col0\" >Digvijay Deshmukh</td>\n",
       "            </tr>\n",
       "            <tr>\n",
       "                                <td id=\"T_4d01ad50_07d8_11eb_97a4_0242ac130202row18_col0\" class=\"data row18 col0\" >Prince Balwant Rai</td>\n",
       "            </tr>\n",
       "            <tr>\n",
       "                                <td id=\"T_4d01ad50_07d8_11eb_97a4_0242ac130202row19_col0\" class=\"data row19 col0\" >Mohit Sharma</td>\n",
       "            </tr>\n",
       "            <tr>\n",
       "                                <td id=\"T_4d01ad50_07d8_11eb_97a4_0242ac130202row20_col0\" class=\"data row20 col0\" >Pavan Deshpande</td>\n",
       "            </tr>\n",
       "            <tr>\n",
       "                                <td id=\"T_4d01ad50_07d8_11eb_97a4_0242ac130202row21_col0\" class=\"data row21 col0\" >Tushar Deshpande</td>\n",
       "            </tr>\n",
       "            <tr>\n",
       "                                <td id=\"T_4d01ad50_07d8_11eb_97a4_0242ac130202row22_col0\" class=\"data row22 col0\" >R Sai Kishore</td>\n",
       "            </tr>\n",
       "            <tr>\n",
       "                                <td id=\"T_4d01ad50_07d8_11eb_97a4_0242ac130202row23_col0\" class=\"data row23 col0\" >Lalit Yadav</td>\n",
       "            </tr>\n",
       "            <tr>\n",
       "                                <td id=\"T_4d01ad50_07d8_11eb_97a4_0242ac130202row24_col0\" class=\"data row24 col0\" >Shahbaz Ahmed</td>\n",
       "            </tr>\n",
       "            <tr>\n",
       "                                <td id=\"T_4d01ad50_07d8_11eb_97a4_0242ac130202row25_col0\" class=\"data row25 col0\" >Isuru Udana</td>\n",
       "            </tr>\n",
       "    </tbody></table>"
      ],
      "text/plain": [
       "<pandas.io.formats.style.Styler at 0x7fe568498fd0>"
      ]
     },
     "execution_count": 15,
     "metadata": {},
     "output_type": "execute_result"
    }
   ],
   "source": [
    "print(\"All the players making Debut in IPL\")\n",
    "debut_df[['Name']].style.hide_index()"
   ]
  },
  {
   "cell_type": "code",
   "execution_count": 16,
   "metadata": {
    "execution": {
     "iopub.execute_input": "2020-10-06T13:31:55.223504Z",
     "iopub.status.busy": "2020-10-06T13:31:55.222207Z",
     "iopub.status.idle": "2020-10-06T13:31:55.228541Z",
     "shell.execute_reply": "2020-10-06T13:31:55.229388Z"
    },
    "papermill": {
     "duration": 0.056383,
     "end_time": "2020-10-06T13:31:55.229586",
     "exception": false,
     "start_time": "2020-10-06T13:31:55.173203",
     "status": "completed"
    },
    "tags": []
   },
   "outputs": [
    {
     "name": "stdout",
     "output_type": "stream",
     "text": [
      "Number of players who played IPL before 2019 and re-selected in 2020\n"
     ]
    },
    {
     "data": {
      "text/plain": [
       "19"
      ]
     },
     "execution_count": 16,
     "metadata": {},
     "output_type": "execute_result"
    }
   ],
   "source": [
    "print(\"Number of players who played IPL before 2019 and re-selected in 2020\")\n",
    "df_20 = ipl_data[ipl_data['IPL Team(s)'].notnull() & ipl_data['IPL 2019 Team'].isnull()]\n",
    "df_20.Name.count()"
   ]
  },
  {
   "cell_type": "code",
   "execution_count": 17,
   "metadata": {
    "execution": {
     "iopub.execute_input": "2020-10-06T13:31:55.310333Z",
     "iopub.status.busy": "2020-10-06T13:31:55.309237Z",
     "iopub.status.idle": "2020-10-06T13:31:55.315479Z",
     "shell.execute_reply": "2020-10-06T13:31:55.314530Z"
    },
    "papermill": {
     "duration": 0.050451,
     "end_time": "2020-10-06T13:31:55.315635",
     "exception": false,
     "start_time": "2020-10-06T13:31:55.265184",
     "status": "completed"
    },
    "tags": []
   },
   "outputs": [
    {
     "name": "stdout",
     "output_type": "stream",
     "text": [
      "All the players making Debut in IPL\n"
     ]
    },
    {
     "data": {
      "text/html": [
       "<style  type=\"text/css\" >\n",
       "</style><table id=\"T_4d1d869c_07d8_11eb_97a4_0242ac130202\" ><thead>    <tr>        <th class=\"col_heading level0 col0\" >Name</th>    </tr></thead><tbody>\n",
       "                <tr>\n",
       "                                <td id=\"T_4d1d869c_07d8_11eb_97a4_0242ac130202row0_col0\" class=\"data row0 col0\" >Eoin Morgan</td>\n",
       "            </tr>\n",
       "            <tr>\n",
       "                                <td id=\"T_4d1d869c_07d8_11eb_97a4_0242ac130202row1_col0\" class=\"data row1 col0\" >Jason Roy</td>\n",
       "            </tr>\n",
       "            <tr>\n",
       "                                <td id=\"T_4d1d869c_07d8_11eb_97a4_0242ac130202row2_col0\" class=\"data row2 col0\" >Aaron Finch</td>\n",
       "            </tr>\n",
       "            <tr>\n",
       "                                <td id=\"T_4d1d869c_07d8_11eb_97a4_0242ac130202row3_col0\" class=\"data row3 col0\" >Glenn Maxwell</td>\n",
       "            </tr>\n",
       "            <tr>\n",
       "                                <td id=\"T_4d1d869c_07d8_11eb_97a4_0242ac130202row4_col0\" class=\"data row4 col0\" >Chris Woakes</td>\n",
       "            </tr>\n",
       "            <tr>\n",
       "                                <td id=\"T_4d1d869c_07d8_11eb_97a4_0242ac130202row5_col0\" class=\"data row5 col0\" >Pat Cummins</td>\n",
       "            </tr>\n",
       "            <tr>\n",
       "                                <td id=\"T_4d1d869c_07d8_11eb_97a4_0242ac130202row6_col0\" class=\"data row6 col0\" >Saurabh Tiwary</td>\n",
       "            </tr>\n",
       "            <tr>\n",
       "                                <td id=\"T_4d1d869c_07d8_11eb_97a4_0242ac130202row7_col0\" class=\"data row7 col0\" >Mitchell Marsh</td>\n",
       "            </tr>\n",
       "            <tr>\n",
       "                                <td id=\"T_4d1d869c_07d8_11eb_97a4_0242ac130202row8_col0\" class=\"data row8 col0\" >James Neesham</td>\n",
       "            </tr>\n",
       "            <tr>\n",
       "                                <td id=\"T_4d1d869c_07d8_11eb_97a4_0242ac130202row9_col0\" class=\"data row9 col0\" >Josh Hazlewood</td>\n",
       "            </tr>\n",
       "            <tr>\n",
       "                                <td id=\"T_4d1d869c_07d8_11eb_97a4_0242ac130202row10_col0\" class=\"data row10 col0\" >Mohsin Khan</td>\n",
       "            </tr>\n",
       "            <tr>\n",
       "                                <td id=\"T_4d1d869c_07d8_11eb_97a4_0242ac130202row11_col0\" class=\"data row11 col0\" >Chris Jordan</td>\n",
       "            </tr>\n",
       "            <tr>\n",
       "                                <td id=\"T_4d1d869c_07d8_11eb_97a4_0242ac130202row12_col0\" class=\"data row12 col0\" >Kane Richardson</td>\n",
       "            </tr>\n",
       "            <tr>\n",
       "                                <td id=\"T_4d1d869c_07d8_11eb_97a4_0242ac130202row13_col0\" class=\"data row13 col0\" >Pravin Tambe</td>\n",
       "            </tr>\n",
       "            <tr>\n",
       "                                <td id=\"T_4d1d869c_07d8_11eb_97a4_0242ac130202row14_col0\" class=\"data row14 col0\" >Tajinder Singh Dhillon</td>\n",
       "            </tr>\n",
       "            <tr>\n",
       "                                <td id=\"T_4d1d869c_07d8_11eb_97a4_0242ac130202row15_col0\" class=\"data row15 col0\" >Aniruddha Joshi</td>\n",
       "            </tr>\n",
       "            <tr>\n",
       "                                <td id=\"T_4d1d869c_07d8_11eb_97a4_0242ac130202row16_col0\" class=\"data row16 col0\" >Sanjay Yadav</td>\n",
       "            </tr>\n",
       "            <tr>\n",
       "                                <td id=\"T_4d1d869c_07d8_11eb_97a4_0242ac130202row17_col0\" class=\"data row17 col0\" >Andrew Tye</td>\n",
       "            </tr>\n",
       "            <tr>\n",
       "                                <td id=\"T_4d1d869c_07d8_11eb_97a4_0242ac130202row18_col0\" class=\"data row18 col0\" >Tom Curran</td>\n",
       "            </tr>\n",
       "    </tbody></table>"
      ],
      "text/plain": [
       "<pandas.io.formats.style.Styler at 0x7fe568427a90>"
      ]
     },
     "execution_count": 17,
     "metadata": {},
     "output_type": "execute_result"
    }
   ],
   "source": [
    "print(\"All the players making Debut in IPL\")\n",
    "df_20[['Name']].style.hide_index()"
   ]
  },
  {
   "cell_type": "code",
   "execution_count": 18,
   "metadata": {
    "execution": {
     "iopub.execute_input": "2020-10-06T13:31:55.394230Z",
     "iopub.status.busy": "2020-10-06T13:31:55.393189Z",
     "iopub.status.idle": "2020-10-06T13:31:55.398250Z",
     "shell.execute_reply": "2020-10-06T13:31:55.398843Z"
    },
    "papermill": {
     "duration": 0.050037,
     "end_time": "2020-10-06T13:31:55.398997",
     "exception": false,
     "start_time": "2020-10-06T13:31:55.348960",
     "status": "completed"
    },
    "tags": []
   },
   "outputs": [
    {
     "name": "stdout",
     "output_type": "stream",
     "text": [
      "Highest Paid player\n"
     ]
    },
    {
     "data": {
      "text/html": [
       "<style  type=\"text/css\" >\n",
       "</style><table id=\"T_4d2aa16a_07d8_11eb_97a4_0242ac130202\" ><thead>    <tr>        <th class=\"col_heading level0 col0\" >Name</th>        <th class=\"col_heading level0 col1\" >Playing Role</th>        <th class=\"col_heading level0 col2\" >IPL 2020 Team</th>        <th class=\"col_heading level0 col3\" >Auctioned Price(in ₹ Lacs)</th>    </tr></thead><tbody>\n",
       "                <tr>\n",
       "                                <td id=\"T_4d2aa16a_07d8_11eb_97a4_0242ac130202row0_col0\" class=\"data row0 col0\" >Pat Cummins</td>\n",
       "                        <td id=\"T_4d2aa16a_07d8_11eb_97a4_0242ac130202row0_col1\" class=\"data row0 col1\" >All Rounder</td>\n",
       "                        <td id=\"T_4d2aa16a_07d8_11eb_97a4_0242ac130202row0_col2\" class=\"data row0 col2\" >Kolkata Knight Riders</td>\n",
       "                        <td id=\"T_4d2aa16a_07d8_11eb_97a4_0242ac130202row0_col3\" class=\"data row0 col3\" >1550</td>\n",
       "            </tr>\n",
       "    </tbody></table>"
      ],
      "text/plain": [
       "<pandas.io.formats.style.Styler at 0x7fe5685e47d0>"
      ]
     },
     "execution_count": 18,
     "metadata": {},
     "output_type": "execute_result"
    }
   ],
   "source": [
    "df = ipl_data[ipl_data['Auctioned Price(in ₹ Lacs)']==ipl_data['Auctioned Price(in ₹ Lacs)'].max()]\n",
    "print(\"Highest Paid player\")\n",
    "df[['Name', 'Playing Role','IPL 2020 Team', 'Auctioned Price(in ₹ Lacs)']].style.hide_index()"
   ]
  },
  {
   "cell_type": "code",
   "execution_count": 19,
   "metadata": {
    "execution": {
     "iopub.execute_input": "2020-10-06T13:31:55.486702Z",
     "iopub.status.busy": "2020-10-06T13:31:55.485580Z",
     "iopub.status.idle": "2020-10-06T13:31:55.491713Z",
     "shell.execute_reply": "2020-10-06T13:31:55.490983Z"
    },
    "papermill": {
     "duration": 0.05864,
     "end_time": "2020-10-06T13:31:55.491842",
     "exception": false,
     "start_time": "2020-10-06T13:31:55.433202",
     "status": "completed"
    },
    "tags": []
   },
   "outputs": [
    {
     "name": "stdout",
     "output_type": "stream",
     "text": [
      "Highest uncapped player\n"
     ]
    },
    {
     "data": {
      "text/html": [
       "<style  type=\"text/css\" >\n",
       "</style><table id=\"T_4d38a1d4_07d8_11eb_97a4_0242ac130202\" ><thead>    <tr>        <th class=\"col_heading level0 col0\" >Name</th>        <th class=\"col_heading level0 col1\" >Playing Role</th>        <th class=\"col_heading level0 col2\" >IPL 2020 Team</th>        <th class=\"col_heading level0 col3\" >Auctioned Price(in ₹ Lacs)</th>    </tr></thead><tbody>\n",
       "                <tr>\n",
       "                                <td id=\"T_4d38a1d4_07d8_11eb_97a4_0242ac130202row0_col0\" class=\"data row0 col0\" >Varun Chakravarthy</td>\n",
       "                        <td id=\"T_4d38a1d4_07d8_11eb_97a4_0242ac130202row0_col1\" class=\"data row0 col1\" >All Rounder</td>\n",
       "                        <td id=\"T_4d38a1d4_07d8_11eb_97a4_0242ac130202row0_col2\" class=\"data row0 col2\" >Kolkata Knight Riders</td>\n",
       "                        <td id=\"T_4d38a1d4_07d8_11eb_97a4_0242ac130202row0_col3\" class=\"data row0 col3\" >400</td>\n",
       "            </tr>\n",
       "    </tbody></table>"
      ],
      "text/plain": [
       "<pandas.io.formats.style.Styler at 0x7fe5684276d0>"
      ]
     },
     "execution_count": 19,
     "metadata": {},
     "output_type": "execute_result"
    }
   ],
   "source": [
    "uncapped_df = ipl_data[ipl_data['Capped / Uncapped /Associate'] == 'Uncapped']\n",
    "uncapped_df = uncapped_df[uncapped_df['Auctioned Price(in ₹ Lacs)']==uncapped_df['Auctioned Price(in ₹ Lacs)'].max()]\n",
    "print(\"Highest uncapped player\")\n",
    "uncapped_df[['Name', 'Playing Role','IPL 2020 Team', 'Auctioned Price(in ₹ Lacs)']].style.hide_index()"
   ]
  },
  {
   "cell_type": "code",
   "execution_count": 20,
   "metadata": {
    "execution": {
     "iopub.execute_input": "2020-10-06T13:31:55.579101Z",
     "iopub.status.busy": "2020-10-06T13:31:55.571098Z",
     "iopub.status.idle": "2020-10-06T13:31:55.751665Z",
     "shell.execute_reply": "2020-10-06T13:31:55.751040Z"
    },
    "papermill": {
     "duration": 0.224585,
     "end_time": "2020-10-06T13:31:55.751791",
     "exception": false,
     "start_time": "2020-10-06T13:31:55.527206",
     "status": "completed"
    },
    "tags": []
   },
   "outputs": [
    {
     "data": {
      "image/png": "[encoded data removed]",
      "text/plain": [
       "<Figure size 432x288 with 1 Axes>"
      ]
     },
     "metadata": {
      "needs_background": "light"
     },
     "output_type": "display_data"
    }
   ],
   "source": [
    "role_count = ipl_data['Playing Role'].value_counts()\n",
    "ax = role_count.plot(kind='bar')\n",
    "ax.set_ylabel('number of players')\n",
    "ax.set_title('Players roles distribution')\n",
    "x_offset = -0.05\n",
    "y_offset = 0.02\n",
    "for p in ax.patches:\n",
    "    b = p.get_bbox()\n",
    "    val = \"{:.0f}\".format(b.y1 + b.y0)        \n",
    "    ax.annotate(val, ((b.x0 + b.x1)/2 + x_offset, b.y1 + y_offset))"
   ]
  },
  {
   "cell_type": "code",
   "execution_count": 21,
   "metadata": {
    "execution": {
     "iopub.execute_input": "2020-10-06T13:31:55.843515Z",
     "iopub.status.busy": "2020-10-06T13:31:55.842469Z",
     "iopub.status.idle": "2020-10-06T13:31:55.847480Z",
     "shell.execute_reply": "2020-10-06T13:31:55.846727Z"
    },
    "papermill": {
     "duration": 0.059846,
     "end_time": "2020-10-06T13:31:55.847602",
     "exception": false,
     "start_time": "2020-10-06T13:31:55.787756",
     "status": "completed"
    },
    "tags": []
   },
   "outputs": [
    {
     "data": {
      "text/html": [
       "<div>\n",
       "<style scoped>\n",
       "    .dataframe tbody tr th:only-of-type {\n",
       "        vertical-align: middle;\n",
       "    }\n",
       "\n",
       "    .dataframe tbody tr th {\n",
       "        vertical-align: top;\n",
       "    }\n",
       "\n",
       "    .dataframe thead th {\n",
       "        text-align: right;\n",
       "    }\n",
       "</style>\n",
       "<table border=\"1\" class=\"dataframe\">\n",
       "  <thead>\n",
       "    <tr style=\"text-align: right;\">\n",
       "      <th></th>\n",
       "      <th>Set No</th>\n",
       "      <th>Set</th>\n",
       "      <th>Name</th>\n",
       "      <th>Playing Role</th>\n",
       "      <th>IPL Matches</th>\n",
       "      <th>Capped / Uncapped /Associate</th>\n",
       "      <th>Reserve Price(in ₹ Lacs)</th>\n",
       "      <th>IPL 2020 Team</th>\n",
       "      <th>Auctioned Price(in ₹ Lacs)</th>\n",
       "      <th>IPL 2019 Team</th>\n",
       "      <th>IPL Team(s)</th>\n",
       "    </tr>\n",
       "  </thead>\n",
       "  <tbody>\n",
       "    <tr>\n",
       "      <th>0</th>\n",
       "      <td>1</td>\n",
       "      <td>BA1</td>\n",
       "      <td>Chris Lynn</td>\n",
       "      <td>Batsman</td>\n",
       "      <td>41.0</td>\n",
       "      <td>Capped</td>\n",
       "      <td>200</td>\n",
       "      <td>Mumbai Indians</td>\n",
       "      <td>200</td>\n",
       "      <td>KKR</td>\n",
       "      <td>Deccan Chargers,SRH,KKR</td>\n",
       "    </tr>\n",
       "    <tr>\n",
       "      <th>1</th>\n",
       "      <td>1</td>\n",
       "      <td>BA1</td>\n",
       "      <td>Eoin Morgan</td>\n",
       "      <td>Batsman</td>\n",
       "      <td>52.0</td>\n",
       "      <td>Capped</td>\n",
       "      <td>200</td>\n",
       "      <td>Kolkata Knight Riders</td>\n",
       "      <td>525</td>\n",
       "      <td>NaN</td>\n",
       "      <td>RCB, KKR, SRH, KXIP</td>\n",
       "    </tr>\n",
       "    <tr>\n",
       "      <th>2</th>\n",
       "      <td>1</td>\n",
       "      <td>BA1</td>\n",
       "      <td>Robin Uthappa</td>\n",
       "      <td>Batsman</td>\n",
       "      <td>177.0</td>\n",
       "      <td>Capped</td>\n",
       "      <td>150</td>\n",
       "      <td>Rajasthan Royals</td>\n",
       "      <td>300</td>\n",
       "      <td>KKR</td>\n",
       "      <td>MI, RCB, PWI, KKR</td>\n",
       "    </tr>\n",
       "    <tr>\n",
       "      <th>3</th>\n",
       "      <td>1</td>\n",
       "      <td>BA1</td>\n",
       "      <td>Jason Roy</td>\n",
       "      <td>Batsman</td>\n",
       "      <td>8.0</td>\n",
       "      <td>Capped</td>\n",
       "      <td>150</td>\n",
       "      <td>Delhi Capitals</td>\n",
       "      <td>150</td>\n",
       "      <td>NaN</td>\n",
       "      <td>GL,DD</td>\n",
       "    </tr>\n",
       "    <tr>\n",
       "      <th>4</th>\n",
       "      <td>1</td>\n",
       "      <td>BA1</td>\n",
       "      <td>Aaron Finch</td>\n",
       "      <td>Batsman</td>\n",
       "      <td>75.0</td>\n",
       "      <td>Capped</td>\n",
       "      <td>100</td>\n",
       "      <td>Royal Challengers Bangalore</td>\n",
       "      <td>440</td>\n",
       "      <td>NaN</td>\n",
       "      <td>RR, DD, PWI, SRH, MI, GL, KXIP</td>\n",
       "    </tr>\n",
       "  </tbody>\n",
       "</table>\n",
       "</div>"
      ],
      "text/plain": [
       "  Set No  Set           Name Playing Role  IPL Matches  \\\n",
       "0      1  BA1     Chris Lynn      Batsman         41.0   \n",
       "1      1  BA1    Eoin Morgan      Batsman         52.0   \n",
       "2      1  BA1  Robin Uthappa      Batsman        177.0   \n",
       "3      1  BA1      Jason Roy      Batsman          8.0   \n",
       "4      1  BA1    Aaron Finch      Batsman         75.0   \n",
       "\n",
       "  Capped / Uncapped /Associate  Reserve Price(in ₹ Lacs)  \\\n",
       "0                       Capped                       200   \n",
       "1                       Capped                       200   \n",
       "2                       Capped                       150   \n",
       "3                       Capped                       150   \n",
       "4                       Capped                       100   \n",
       "\n",
       "                 IPL 2020 Team  Auctioned Price(in ₹ Lacs) IPL 2019 Team  \\\n",
       "0               Mumbai Indians                         200           KKR   \n",
       "1        Kolkata Knight Riders                         525           NaN   \n",
       "2             Rajasthan Royals                         300           KKR   \n",
       "3               Delhi Capitals                         150           NaN   \n",
       "4  Royal Challengers Bangalore                         440           NaN   \n",
       "\n",
       "                      IPL Team(s)  \n",
       "0         Deccan Chargers,SRH,KKR  \n",
       "1             RCB, KKR, SRH, KXIP  \n",
       "2               MI, RCB, PWI, KKR  \n",
       "3                           GL,DD  \n",
       "4  RR, DD, PWI, SRH, MI, GL, KXIP  "
      ]
     },
     "execution_count": 21,
     "metadata": {},
     "output_type": "execute_result"
    }
   ],
   "source": [
    "ipl_data.head()"
   ]
  },
  {
   "cell_type": "code",
   "execution_count": 22,
   "metadata": {
    "execution": {
     "iopub.execute_input": "2020-10-06T13:31:55.932488Z",
     "iopub.status.busy": "2020-10-06T13:31:55.931549Z",
     "iopub.status.idle": "2020-10-06T13:31:55.935084Z",
     "shell.execute_reply": "2020-10-06T13:31:55.934261Z"
    },
    "papermill": {
     "duration": 0.049273,
     "end_time": "2020-10-06T13:31:55.935215",
     "exception": false,
     "start_time": "2020-10-06T13:31:55.885942",
     "status": "completed"
    },
    "tags": []
   },
   "outputs": [],
   "source": [
    "ipl_data[\"IPL Team(s)\"].fillna(\" \", inplace = True)\n",
    "ipl_data['Total Teams played'] = [len(x.split(',')) for x in ipl_data['IPL Team(s)'].tolist()]"
   ]
  },
  {
   "cell_type": "code",
   "execution_count": 23,
   "metadata": {
    "execution": {
     "iopub.execute_input": "2020-10-06T13:31:56.040885Z",
     "iopub.status.busy": "2020-10-06T13:31:56.040098Z",
     "iopub.status.idle": "2020-10-06T13:31:56.045008Z",
     "shell.execute_reply": "2020-10-06T13:31:56.045551Z"
    },
    "papermill": {
     "duration": 0.072836,
     "end_time": "2020-10-06T13:31:56.045716",
     "exception": false,
     "start_time": "2020-10-06T13:31:55.972880",
     "status": "completed"
    },
    "tags": []
   },
   "outputs": [
    {
     "data": {
      "text/html": [
       "<div>\n",
       "<style scoped>\n",
       "    .dataframe tbody tr th:only-of-type {\n",
       "        vertical-align: middle;\n",
       "    }\n",
       "\n",
       "    .dataframe tbody tr th {\n",
       "        vertical-align: top;\n",
       "    }\n",
       "\n",
       "    .dataframe thead th {\n",
       "        text-align: right;\n",
       "    }\n",
       "</style>\n",
       "<table border=\"1\" class=\"dataframe\">\n",
       "  <thead>\n",
       "    <tr style=\"text-align: right;\">\n",
       "      <th></th>\n",
       "      <th>Set No</th>\n",
       "      <th>Set</th>\n",
       "      <th>Name</th>\n",
       "      <th>Playing Role</th>\n",
       "      <th>IPL Matches</th>\n",
       "      <th>Capped / Uncapped /Associate</th>\n",
       "      <th>Reserve Price(in ₹ Lacs)</th>\n",
       "      <th>IPL 2020 Team</th>\n",
       "      <th>Auctioned Price(in ₹ Lacs)</th>\n",
       "      <th>IPL 2019 Team</th>\n",
       "      <th>IPL Team(s)</th>\n",
       "      <th>Total Teams played</th>\n",
       "    </tr>\n",
       "  </thead>\n",
       "  <tbody>\n",
       "    <tr>\n",
       "      <th>0</th>\n",
       "      <td>1</td>\n",
       "      <td>BA1</td>\n",
       "      <td>Chris Lynn</td>\n",
       "      <td>Batsman</td>\n",
       "      <td>41.0</td>\n",
       "      <td>Capped</td>\n",
       "      <td>200.0</td>\n",
       "      <td>Mumbai Indians</td>\n",
       "      <td>200.0</td>\n",
       "      <td>KKR</td>\n",
       "      <td>Deccan Chargers,SRH,KKR</td>\n",
       "      <td>3</td>\n",
       "    </tr>\n",
       "    <tr>\n",
       "      <th>2</th>\n",
       "      <td>1</td>\n",
       "      <td>BA1</td>\n",
       "      <td>Robin Uthappa</td>\n",
       "      <td>Batsman</td>\n",
       "      <td>177.0</td>\n",
       "      <td>Capped</td>\n",
       "      <td>150.0</td>\n",
       "      <td>Rajasthan Royals</td>\n",
       "      <td>300.0</td>\n",
       "      <td>KKR</td>\n",
       "      <td>MI, RCB, PWI, KKR</td>\n",
       "      <td>4</td>\n",
       "    </tr>\n",
       "    <tr>\n",
       "      <th>8</th>\n",
       "      <td>2</td>\n",
       "      <td>AL1</td>\n",
       "      <td>Sam Curran</td>\n",
       "      <td>All Rounder</td>\n",
       "      <td>16.0</td>\n",
       "      <td>Capped</td>\n",
       "      <td>100.0</td>\n",
       "      <td>Chennai Super Kings</td>\n",
       "      <td>550.0</td>\n",
       "      <td>KXIP</td>\n",
       "      <td>KXIP</td>\n",
       "      <td>1</td>\n",
       "    </tr>\n",
       "    <tr>\n",
       "      <th>9</th>\n",
       "      <td>2</td>\n",
       "      <td>AL1</td>\n",
       "      <td>Chris Morris</td>\n",
       "      <td>All Rounder</td>\n",
       "      <td>61.0</td>\n",
       "      <td>Capped</td>\n",
       "      <td>150.0</td>\n",
       "      <td>Royal Challengers Bangalore</td>\n",
       "      <td>1000.0</td>\n",
       "      <td>DC</td>\n",
       "      <td>CSK,RR,DC</td>\n",
       "      <td>3</td>\n",
       "    </tr>\n",
       "    <tr>\n",
       "      <th>11</th>\n",
       "      <td>4</td>\n",
       "      <td>FA1</td>\n",
       "      <td>Jaydev Unadkat</td>\n",
       "      <td>Fast Bowler</td>\n",
       "      <td>73.0</td>\n",
       "      <td>Capped</td>\n",
       "      <td>100.0</td>\n",
       "      <td>Rajasthan Royals</td>\n",
       "      <td>300.0</td>\n",
       "      <td>RR</td>\n",
       "      <td>KKR, RCB, DD,RPS,RR</td>\n",
       "      <td>5</td>\n",
       "    </tr>\n",
       "  </tbody>\n",
       "</table>\n",
       "</div>"
      ],
      "text/plain": [
       "   Set No  Set            Name Playing Role  IPL Matches  \\\n",
       "0       1  BA1      Chris Lynn      Batsman         41.0   \n",
       "2       1  BA1   Robin Uthappa      Batsman        177.0   \n",
       "8       2  AL1      Sam Curran  All Rounder         16.0   \n",
       "9       2  AL1    Chris Morris  All Rounder         61.0   \n",
       "11      4  FA1  Jaydev Unadkat  Fast Bowler         73.0   \n",
       "\n",
       "   Capped / Uncapped /Associate  Reserve Price(in ₹ Lacs)  \\\n",
       "0                        Capped                     200.0   \n",
       "2                        Capped                     150.0   \n",
       "8                        Capped                     100.0   \n",
       "9                        Capped                     150.0   \n",
       "11                       Capped                     100.0   \n",
       "\n",
       "                  IPL 2020 Team  Auctioned Price(in ₹ Lacs) IPL 2019 Team  \\\n",
       "0                Mumbai Indians                       200.0           KKR   \n",
       "2              Rajasthan Royals                       300.0           KKR   \n",
       "8           Chennai Super Kings                       550.0          KXIP   \n",
       "9   Royal Challengers Bangalore                      1000.0            DC   \n",
       "11             Rajasthan Royals                       300.0            RR   \n",
       "\n",
       "                IPL Team(s)  Total Teams played  \n",
       "0   Deccan Chargers,SRH,KKR                   3  \n",
       "2         MI, RCB, PWI, KKR                   4  \n",
       "8                      KXIP                   1  \n",
       "9                 CSK,RR,DC                   3  \n",
       "11      KKR, RCB, DD,RPS,RR                   5  "
      ]
     },
     "execution_count": 23,
     "metadata": {},
     "output_type": "execute_result"
    }
   ],
   "source": [
    "# selecting only non-debut players for 2020 IPL\n",
    "single_match_df = ipl_data[~ipl_data.isin(debut_df)].dropna()\n",
    "single_match_df.head()"
   ]
  },
  {
   "cell_type": "code",
   "execution_count": 24,
   "metadata": {
    "execution": {
     "iopub.execute_input": "2020-10-06T13:31:56.135272Z",
     "iopub.status.busy": "2020-10-06T13:31:56.134359Z",
     "iopub.status.idle": "2020-10-06T13:31:56.140089Z",
     "shell.execute_reply": "2020-10-06T13:31:56.139440Z"
    },
    "papermill": {
     "duration": 0.056169,
     "end_time": "2020-10-06T13:31:56.140207",
     "exception": false,
     "start_time": "2020-10-06T13:31:56.084038",
     "status": "completed"
    },
    "tags": []
   },
   "outputs": [
    {
     "name": "stdout",
     "output_type": "stream",
     "text": [
      "players who had played for only one franchise before IPL 2020\n"
     ]
    },
    {
     "data": {
      "text/html": [
       "<style  type=\"text/css\" >\n",
       "</style><table id=\"T_4d9b7e44_07d8_11eb_97a4_0242ac130202\" ><thead>    <tr>        <th class=\"col_heading level0 col0\" >Name</th>        <th class=\"col_heading level0 col1\" >Playing Role</th>        <th class=\"col_heading level0 col2\" >IPL 2020 Team</th>    </tr></thead><tbody>\n",
       "                <tr>\n",
       "                                <td id=\"T_4d9b7e44_07d8_11eb_97a4_0242ac130202row0_col0\" class=\"data row0 col0\" >Sam Curran</td>\n",
       "                        <td id=\"T_4d9b7e44_07d8_11eb_97a4_0242ac130202row0_col1\" class=\"data row0 col1\" >All Rounder</td>\n",
       "                        <td id=\"T_4d9b7e44_07d8_11eb_97a4_0242ac130202row0_col2\" class=\"data row0 col2\" >Chennai Super Kings</td>\n",
       "            </tr>\n",
       "            <tr>\n",
       "                                <td id=\"T_4d9b7e44_07d8_11eb_97a4_0242ac130202row1_col0\" class=\"data row1 col0\" >Varun Chakravarthy</td>\n",
       "                        <td id=\"T_4d9b7e44_07d8_11eb_97a4_0242ac130202row1_col1\" class=\"data row1 col1\" >All Rounder</td>\n",
       "                        <td id=\"T_4d9b7e44_07d8_11eb_97a4_0242ac130202row1_col2\" class=\"data row1 col2\" >Kolkata Knight Riders</td>\n",
       "            </tr>\n",
       "            <tr>\n",
       "                                <td id=\"T_4d9b7e44_07d8_11eb_97a4_0242ac130202row2_col0\" class=\"data row2 col0\" >Shimron Hetmyer</td>\n",
       "                        <td id=\"T_4d9b7e44_07d8_11eb_97a4_0242ac130202row2_col1\" class=\"data row2 col1\" >Batsman</td>\n",
       "                        <td id=\"T_4d9b7e44_07d8_11eb_97a4_0242ac130202row2_col2\" class=\"data row2 col2\" >Delhi Capitals</td>\n",
       "            </tr>\n",
       "            <tr>\n",
       "                                <td id=\"T_4d9b7e44_07d8_11eb_97a4_0242ac130202row3_col0\" class=\"data row3 col0\" >David Miller</td>\n",
       "                        <td id=\"T_4d9b7e44_07d8_11eb_97a4_0242ac130202row3_col1\" class=\"data row3 col1\" >Batsman</td>\n",
       "                        <td id=\"T_4d9b7e44_07d8_11eb_97a4_0242ac130202row3_col2\" class=\"data row3 col2\" >Rajasthan Royals</td>\n",
       "            </tr>\n",
       "            <tr>\n",
       "                                <td id=\"T_4d9b7e44_07d8_11eb_97a4_0242ac130202row4_col0\" class=\"data row4 col0\" >Oshane Thomas</td>\n",
       "                        <td id=\"T_4d9b7e44_07d8_11eb_97a4_0242ac130202row4_col1\" class=\"data row4 col1\" >Fast Bowler</td>\n",
       "                        <td id=\"T_4d9b7e44_07d8_11eb_97a4_0242ac130202row4_col2\" class=\"data row4 col2\" >Rajasthan Royals</td>\n",
       "            </tr>\n",
       "            <tr>\n",
       "                                <td id=\"T_4d9b7e44_07d8_11eb_97a4_0242ac130202row5_col0\" class=\"data row5 col0\" >Prab Simran Singh</td>\n",
       "                        <td id=\"T_4d9b7e44_07d8_11eb_97a4_0242ac130202row5_col1\" class=\"data row5 col1\" >Wicket Keeper</td>\n",
       "                        <td id=\"T_4d9b7e44_07d8_11eb_97a4_0242ac130202row5_col2\" class=\"data row5 col2\" >Kings XI Punjab</td>\n",
       "            </tr>\n",
       "    </tbody></table>"
      ],
      "text/plain": [
       "<pandas.io.formats.style.Styler at 0x7fe5683bba50>"
      ]
     },
     "execution_count": 24,
     "metadata": {},
     "output_type": "execute_result"
    }
   ],
   "source": [
    "print(\"players who had played for only one franchise before IPL 2020\")\n",
    "one_df = single_match_df[single_match_df['Total Teams played'] == 1]\n",
    "one_df[['Name', 'Playing Role','IPL 2020 Team']].style.hide_index()"
   ]
  }
 ],
 "metadata": {
  "kernelspec": {
   "display_name": "Python 3",
   "language": "python",
   "name": "python3"
  },
  "language_info": {
   "codemirror_mode": {
    "name": "ipython",
    "version": 3
   },
   "file_extension": ".py",
   "mimetype": "text/x-python",
   "name": "python",
   "nbconvert_exporter": "python",
   "pygments_lexer": "ipython3",
   "version": "3.7.6"
  },
  "papermill": {
   "duration": 9.437902,
   "end_time": "2020-10-06T13:31:56.288292",
   "environment_variables": {},
   "exception": null,
   "input_path": "__notebook__.ipynb",
   "output_path": "__notebook__.ipynb",
   "parameters": {},
   "start_time": "2020-10-06T13:31:46.850390",
   "version": "2.1.0"
  }
 },
 "nbformat": 4,
 "nbformat_minor": 4
}
